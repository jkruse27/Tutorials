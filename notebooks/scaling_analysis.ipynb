{
 "cells": [
  {
   "cell_type": "markdown",
   "metadata": {},
   "source": [
    "# Imports"
   ]
  },
  {
   "cell_type": "code",
   "execution_count": null,
   "metadata": {
    "vscode": {
     "languageId": "plaintext"
    }
   },
   "outputs": [],
   "source": []
  },
  {
   "cell_type": "markdown",
   "metadata": {},
   "source": [
    "# Detrended Fluctuation Analysis (DFA)"
   ]
  },
  {
   "cell_type": "code",
   "execution_count": null,
   "metadata": {
    "vscode": {
     "languageId": "plaintext"
    }
   },
   "outputs": [],
   "source": []
  },
  {
   "cell_type": "markdown",
   "metadata": {},
   "source": [
    "# Detrended Moving Averages Analysis (DMA)"
   ]
  },
  {
   "cell_type": "code",
   "execution_count": null,
   "metadata": {
    "vscode": {
     "languageId": "plaintext"
    }
   },
   "outputs": [],
   "source": [
    "def generalized_variance(series, scale, order):\n",
    "    \"\"\"Function that calculates the generalized variance of a determined series\n",
    "    for a given scale and detrending order of the savitzky-golay filter\n",
    "    \"\"\"\n",
    "    return np.sqrt(np.sum(\n",
    "                        detrending(\n",
    "                                  series,\n",
    "                                  scale,\n",
    "                                  order\n",
    "                                )**2\n",
    "    ))\n",
    "\n",
    "\n",
    "def dma(\n",
    "    series: np.array,\n",
    "    scales: list,\n",
    "    order: int = 4,\n",
    ") -> list:\n",
    "    \"\"\"Function that receaves HRV data and detrends calculates the DMA\n",
    "    from it using Python code.\n",
    "\n",
    "    Parameters\n",
    "    ----------\n",
    "    series : np.array\n",
    "        Numpy array containing the HRV data.\n",
    "    scales : list\n",
    "        List with the scales to be analyzed.\n",
    "    order : int, optional\n",
    "        Order of the polynomial to be fit. Default: 4\n",
    "    Returns\n",
    "    -------\n",
    "    list\n",
    "        Values of the DMA for each of the given scales\n",
    "    \"\"\"\n",
    "    series = np.cumsum(series-np.mean(series))\n",
    "\n",
    "    return [generalized_variance(series, 2*s, order) for s in scales]"
   ]
  },
  {
   "cell_type": "markdown",
   "metadata": {},
   "source": [
    "# Further Readings"
   ]
  },
  {
   "cell_type": "markdown",
   "metadata": {},
   "source": []
  }
 ],
 "metadata": {
  "language_info": {
   "name": "python"
  }
 },
 "nbformat": 4,
 "nbformat_minor": 2
}
