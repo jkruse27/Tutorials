{
 "cells": [
  {
   "cell_type": "markdown",
   "metadata": {},
   "source": [
    "# Imports"
   ]
  },
  {
   "cell_type": "code",
   "execution_count": null,
   "metadata": {},
   "outputs": [],
   "source": []
  },
  {
   "cell_type": "markdown",
   "metadata": {},
   "source": [
    "# Preliminar notes"
   ]
  },
  {
   "cell_type": "markdown",
   "metadata": {},
   "source": [
    "Before starting the explanation on deep learning applications, I would just like to say that before resorting to such methods it is always good practice to test simpler machine learning approaches before (regression, SVM, KNN, random forest, etc). This is because many problems actually don't need deep learning in order to achieve good results. Because the simpler models tend to have better interpretability, as well as requiring less data to train, if their performance is satisfactory, they are in many instances preferable to deep learning. With that said, assuming you still want/need deep learning for your project this notebooks give a brief introduction and description of how to do it with python.\n",
    "\n",
    "One thing that might be useful when training deep learning models is using the GPU for acceleration of the training. Mainly Nvidia GPUs with CUDA support can be used. For that, you need to install the GPU version of tensorflow, as well as make sure you have CUDA (https://developer.nvidia.com/cuda-toolkit) installed on your computer. To make this process easier, I recommend using a Docker image with the GPU tensorflow installed. You can refer to https://www.tensorflow.org/install/docker to see how to do it."
   ]
  },
  {
   "cell_type": "markdown",
   "metadata": {},
   "source": [
    "# Dataset"
   ]
  },
  {
   "cell_type": "markdown",
   "metadata": {},
   "source": [
    "For this explanation, we'll use the dataset from https://physionet.org/content/ptb-xl/1.0.3/ as our toy problem. It contains 21799 10s 12-lead ECG recordings with labels corresponding to the type of beat (Normal, Myocardial Infarction, ST/T change, conduction disturbance, hypertrophy) and the goal is to classify the segment based solely on the ECG. The cell below downloads and extracts the dataset in the parent directory (note, the zip file that is downloaded is 1.7GB, and after extraction it has 3GB so this might take some time)."
   ]
  },
  {
   "cell_type": "code",
   "execution_count": 3,
   "metadata": {},
   "outputs": [],
   "source": [
    "import zipfile\n",
    "import os\n",
    "import urllib.request\n",
    "\n",
    "# Download dataset\n",
    "urllib.request.urlretrieve(\n",
    "    \"https://physionet.org/static/published-projects/ptb-xl/ptb-xl-a-large-publicly-available-electrocardiography-dataset-1.0.3.zip\", \n",
    "    filename=\"../dataset.zip\"\n",
    "    )\n",
    "\n",
    "# Extract data from zip\n",
    "with zipfile.ZipFile(\"../dataset.zip\", 'r') as zip_ref:\n",
    "    zip_ref.extractall(\"../\")\n",
    "\n",
    "# Delete zip\n",
    "os.remove(\"../dataset.zip\")"
   ]
  },
  {
   "cell_type": "code",
   "execution_count": 4,
   "metadata": {},
   "outputs": [],
   "source": []
  },
  {
   "cell_type": "markdown",
   "metadata": {},
   "source": [
    "# Traditional Approaches"
   ]
  },
  {
   "cell_type": "code",
   "execution_count": null,
   "metadata": {},
   "outputs": [],
   "source": []
  },
  {
   "cell_type": "markdown",
   "metadata": {},
   "source": [
    "# Model creation"
   ]
  },
  {
   "cell_type": "code",
   "execution_count": null,
   "metadata": {},
   "outputs": [],
   "source": []
  },
  {
   "cell_type": "markdown",
   "metadata": {},
   "source": [
    "# Training"
   ]
  },
  {
   "cell_type": "code",
   "execution_count": null,
   "metadata": {},
   "outputs": [],
   "source": []
  },
  {
   "cell_type": "markdown",
   "metadata": {},
   "source": [
    "# Evaluation"
   ]
  },
  {
   "cell_type": "code",
   "execution_count": null,
   "metadata": {},
   "outputs": [],
   "source": []
  },
  {
   "cell_type": "markdown",
   "metadata": {},
   "source": [
    "# Further readings"
   ]
  },
  {
   "cell_type": "markdown",
   "metadata": {},
   "source": []
  }
 ],
 "metadata": {
  "kernelspec": {
   "display_name": "tutorials",
   "language": "python",
   "name": "python3"
  },
  "language_info": {
   "codemirror_mode": {
    "name": "ipython",
    "version": 3
   },
   "file_extension": ".py",
   "mimetype": "text/x-python",
   "name": "python",
   "nbconvert_exporter": "python",
   "pygments_lexer": "ipython3",
   "version": "3.12.3"
  }
 },
 "nbformat": 4,
 "nbformat_minor": 2
}
